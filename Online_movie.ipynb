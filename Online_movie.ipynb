{
  "nbformat": 4,
  "nbformat_minor": 0,
  "metadata": {
    "kernelspec": {
      "display_name": "Python 3",
      "language": "python",
      "name": "python3"
    },
    "language_info": {
      "codemirror_mode": {
        "name": "ipython",
        "version": 3
      },
      "file_extension": ".py",
      "mimetype": "text/x-python",
      "name": "python",
      "nbconvert_exporter": "python",
      "pygments_lexer": "ipython3",
      "version": "3.7.4"
    },
    "colab": {
      "name": "Online_movie.ipynb",
      "provenance": [],
      "collapsed_sections": []
    }
  },
  "cells": [
    {
      "cell_type": "markdown",
      "metadata": {
        "id": "IwifpJenyyae",
        "colab_type": "text"
      },
      "source": [
        "## Гипотезы\n",
        "\n",
        "1. У Игоря есть гипотеза, что одно из двух дополнительных действий\n",
        "может вызывать целевое действие: то есть пользователи,\n",
        "совершившие event_1 или event_2, с большей вероятностью совершат\n",
        "и целевое действие. Нужно проверить, так ли это.\n",
        "\n",
        "2. Другая задача — понять, какие именно пользователи\n",
        "совершают целевые действия. Менеджер продукта выдвигает\n",
        "гипотезу, что чаще всего по несколько раз фильмы/сериалы\n",
        "покупают одни и те же пользователи, то есть небольшой\n",
        "процент пользователей обеспечивает почти все действия,\n",
        "приносящие нам прибыль."
      ]
    },
    {
      "cell_type": "code",
      "metadata": {
        "id": "tZo_LCCRyyao",
        "colab_type": "code",
        "colab": {}
      },
      "source": [
        "# Импорт необходимых библиотек\n",
        "import pandas as pd\n",
        "import matplotlib.pyplot as mpl"
      ],
      "execution_count": 0,
      "outputs": []
    },
    {
      "cell_type": "markdown",
      "metadata": {
        "id": "zCQa1Gm_yyaz",
        "colab_type": "text"
      },
      "source": [
        "Загрузка данных. В этом варианте данные загружаются из облака Amazon, что обеспечивает единство результатов, но нужно подключение к Интернет.  Если подключения нет, то ниже показана загрузка из локального файла (нужно раскомментировать)"
      ]
    },
    {
      "cell_type": "code",
      "metadata": {
        "id": "B5UFLXUkyya1",
        "colab_type": "code",
        "colab": {}
      },
      "source": [
        "# Загрузка исходных данных из сжатого JSON файла в облаке\n",
        "df = pd.read_json(\"https://miscelanneous.s3-eu-west-1.amazonaws.com/SkillFactory/SDA5_CaseA6/case6.json.gz\", \n",
        "                  orient='records', convert_dates='created_at',\n",
        "                  date_unit='ns', compression='gzip')"
      ],
      "execution_count": 0,
      "outputs": []
    },
    {
      "cell_type": "code",
      "metadata": {
        "id": "63QUU5Foyya6",
        "colab_type": "code",
        "colab": {}
      },
      "source": [
        "# Загрузка исходных данных из локального JSON файла\n",
        "# df = pd.read_json(\"case6.json\", orient='records', convert_dates='created_at',\n",
        "#                  date_unit='ns')"
      ],
      "execution_count": 0,
      "outputs": []
    },
    {
      "cell_type": "code",
      "metadata": {
        "id": "Th2-LFeiyybA",
        "colab_type": "code",
        "outputId": "a1495baf-24b3-4775-fa90-956e2bbde518",
        "colab": {
          "base_uri": "https://localhost:8080/",
          "height": 35
        }
      },
      "source": [
        "# Кол-во уникальных пользователей всего и тех из них, которые совершили целевое действие,\n",
        "# плюс считаем конверсию.\n",
        "users_count        = df.user_id.nunique()\n",
        "users_target_count = df[df.event_type=='target_event'].user_id.nunique()\n",
        "conversion         = users_target_count / users_count\n",
        "print(\"Всего пользователей: {0}, из них покупателей: {1}, конверсия: {2:.2%}\".format(users_count, users_target_count, conversion))"
      ],
      "execution_count": 4,
      "outputs": [
        {
          "output_type": "stream",
          "text": [
            "Всего пользователей: 7351, из них покупателей: 980, конверсия: 13.33%\n"
          ],
          "name": "stdout"
        }
      ]
    },
    {
      "cell_type": "markdown",
      "metadata": {
        "id": "KaLEW4z1yybG",
        "colab_type": "text"
      },
      "source": [
        "# Собирание сводной статистики\n",
        "Решил собирать статистику в виде таблицы, где строки соответствуют идентификаторам пользователей, а колонки событиям, таким как регистрация, установка тарифа, просмотр трейлера, рекомендаций, покупка.  В этом случае будет проще искать связи между колонками."
      ]
    },
    {
      "cell_type": "code",
      "metadata": {
        "id": "Lk4OlKT0yybH",
        "colab_type": "code",
        "colab": {}
      },
      "source": [
        "pt = df.pivot_table(values='created_at', index='user_id', columns='event_type', aggfunc='count')\n",
        "\n",
        "# Получившуюся сводную таблицу можно проверить, расчитав, к примеру, конверсию:\n",
        "assert(conversion == pt.target_event.count()/len(pt))"
      ],
      "execution_count": 0,
      "outputs": []
    },
    {
      "cell_type": "markdown",
      "metadata": {
        "id": "eqpplVf2yybM",
        "colab_type": "text"
      },
      "source": [
        "Надо иметь в виду, что здесь не нужно суммировать, так как примерно 170 пользователей делали больше\n",
        "одной покупки (pt.target_event.value_counts())\n",
        "\n",
        "В таблице user_events2 колонки `registration` и `tarif_set` неинформативны, они содержат\n",
        "единицу для каждого пользователя (легко проверить `value_counts()`), избавляюсь от них."
      ]
    },
    {
      "cell_type": "code",
      "metadata": {
        "id": "aPzV2w20yybN",
        "colab_type": "code",
        "colab": {}
      },
      "source": [
        "pt.drop(labels=['registration', 'tarif_set'], axis=1, inplace=True)"
      ],
      "execution_count": 0,
      "outputs": []
    },
    {
      "cell_type": "markdown",
      "metadata": {
        "id": "rkYW1sBryybT",
        "colab_type": "text"
      },
      "source": [
        "Теперь смотрим, какие действия пользователя приводят к целевому действию.\n",
        "Например, активация совершенно необходима для всего остального — если активации не произошло, не произойдёт и никаких других событий:"
      ]
    },
    {
      "cell_type": "code",
      "metadata": {
        "id": "GiXdtGilyybV",
        "colab_type": "code",
        "outputId": "c39a6fc5-14bc-4245-f1dc-2561afd5be79",
        "colab": {
          "base_uri": "https://localhost:8080/",
          "height": 125
        }
      },
      "source": [
        "pt[pt.activation.isnull()].count(axis=0)"
      ],
      "execution_count": 7,
      "outputs": [
        {
          "output_type": "execute_result",
          "data": {
            "text/plain": [
              "event_type\n",
              "activation      0\n",
              "event_1         0\n",
              "event_2         0\n",
              "target_event    0\n",
              "dtype: int64"
            ]
          },
          "metadata": {
            "tags": []
          },
          "execution_count": 7
        }
      ]
    },
    {
      "cell_type": "markdown",
      "metadata": {
        "id": "znmnz2A0BHs2",
        "colab_type": "text"
      },
      "source": [
        "  Так что можно расчитать конверсию из посетителей в активированных пользователей, а дальше делать расчёты после исключения неактивированных UID."
      ]
    },
    {
      "cell_type": "markdown",
      "metadata": {
        "id": "87K36pLcyyba",
        "colab_type": "text"
      },
      "source": [
        "Посчитаю конверсию из посетителей в пользователей, а потом из пользователей в покупателей. Для второй части вопроса создам новый датафрейм (объём данных невелик, можно не экономить память), в котором не будет неактивированных пользователей, и выброшу колонку `activation`.\n",
        "Произведение этих двух конверсий, даст общую конверсию — можно проверить себя `assert`-ом."
      ]
    },
    {
      "cell_type": "code",
      "metadata": {
        "id": "oioLf6Cpyybc",
        "colab_type": "code",
        "outputId": "75568036-8517-4d4a-bd8b-13cb438d4b9d",
        "colab": {
          "base_uri": "https://localhost:8080/",
          "height": 53
        }
      },
      "source": [
        "print(\"Conversion from visitors to activated users: {:0.2%}\".format(pt.activation.count()/len(pt)))\n",
        "# drop unregistered users\n",
        "pt1 = pt[pt.activation.notnull()].drop(labels=['activation'], axis=1)\n",
        "print(\"Conversion from activated users to buyers: {:0.2%}\".format( pt1.target_event.count()/len(pt1) ))\n",
        "assert(conversion == (pt.activation.count()/len(pt)) * (pt1.target_event.count()/len(pt1)))"
      ],
      "execution_count": 8,
      "outputs": [
        {
          "output_type": "stream",
          "text": [
            "Conversion from visitors to activated users: 83.06%\n",
            "Conversion from activated users to buyers: 16.05%\n"
          ],
          "name": "stdout"
        }
      ]
    },
    {
      "cell_type": "markdown",
      "metadata": {
        "id": "Neot6qRiyybg",
        "colab_type": "text"
      },
      "source": [
        "## Проверяем гипотезу о связи целевого действия с просмотром трейлера и с получением персональных рекомендаций"
      ]
    },
    {
      "cell_type": "markdown",
      "metadata": {
        "id": "HSBczP9Zyybh",
        "colab_type": "text"
      },
      "source": [
        "### Рекомендации"
      ]
    },
    {
      "cell_type": "markdown",
      "metadata": {
        "id": "BYF4ZE60yybj",
        "colab_type": "text"
      },
      "source": [
        "Теперь мы знаем, от какой конверсии нужно отталкиваться, и можем попробовать понять, влияют ли события `event_1`, `event_2` или их комбинация на вероятность покупки."
      ]
    },
    {
      "cell_type": "code",
      "metadata": {
        "id": "yyGvyjLgyybp",
        "colab_type": "code",
        "outputId": "788551da-a25e-4bf3-d5d2-68c5ba3e4b1a",
        "colab": {
          "base_uri": "https://localhost:8080/",
          "height": 35
        }
      },
      "source": [
        "print(\"Всего активированных пользователей: {0}, целевых событий с рекомендациями: {1}, без рекомендаций: {2}\".format(len(pt1), pt1.event_1.count(), len(pt1) - pt1.event_1.count()))"
      ],
      "execution_count": 10,
      "outputs": [
        {
          "output_type": "stream",
          "text": [
            "Всего активированных пользователей: 6106, целевых событий с рекомендациями: 2844, без рекомендаций: 3262\n"
          ],
          "name": "stdout"
        }
      ]
    },
    {
      "cell_type": "markdown",
      "metadata": {
        "id": "bXalYPLDoL4G",
        "colab_type": "text"
      },
      "source": [
        "Условная вероятность целевого события при разных значениях в колонке `event_1`:"
      ]
    },
    {
      "cell_type": "code",
      "metadata": {
        "id": "TbNJzyQoyybl",
        "colab_type": "code",
        "outputId": "8d9ae8a8-4b2b-46f6-ded3-34633920005c",
        "colab": {
          "base_uri": "https://localhost:8080/",
          "height": 35
        }
      },
      "source": [
        "P_trg_evt1   = pt1[pt1.event_1.notnull()].target_event.count()/(pt1.event_1.count())\n",
        "P_trg_n_evt1 = pt1[pt1.event_1.isnull()].target_event.count()/(len(pt1) - pt1.event_1.count())\n",
        "print(\"Конверсия для пользователей, запрашивавших рекомендации: {:.2%}, а не запрашивавших: {:.2%}\".format(P_trg_evt1, P_trg_n_evt1))"
      ],
      "execution_count": 9,
      "outputs": [
        {
          "output_type": "stream",
          "text": [
            "Конверсия для пользователей, запрашивавших рекомендации: 24.40%, а не запрашивавших: 8.77%\n"
          ],
          "name": "stdout"
        }
      ]
    },
    {
      "cell_type": "markdown",
      "metadata": {
        "id": "VsQCH5npyybs",
        "colab_type": "text"
      },
      "source": [
        "Можно сказать, что среди пользователей, просматривавших персональные рекомендации, вероятность совершения покупки втрое выше, чем среди не запрашивавших таких рекомендаций.  Это равносильно высказыванию, что персональные рекомендации заметно повышают конверсию."
      ]
    },
    {
      "cell_type": "markdown",
      "metadata": {
        "id": "V-AbVur0yybu",
        "colab_type": "text"
      },
      "source": [
        "### Трейлер"
      ]
    },
    {
      "cell_type": "markdown",
      "metadata": {
        "id": "RO0rh2upyybv",
        "colab_type": "text"
      },
      "source": [
        "Аналогично расчитаем для события `event_2`: просмотр трейлера."
      ]
    },
    {
      "cell_type": "code",
      "metadata": {
        "id": "w_dFoKlVyyb1",
        "colab_type": "code",
        "outputId": "f6b48458-5c09-48ce-9c78-5cc37a19ffa6",
        "colab": {
          "base_uri": "https://localhost:8080/",
          "height": 35
        }
      },
      "source": [
        "print(\"Всего пользователей: {0}, смотрели трейлеры: {1}, не смотрели: {2}\".format(\n",
        "    len(pt1), pt1.event_2.count(), len(pt1) - pt1.event_2.count())\n",
        ")"
      ],
      "execution_count": 100,
      "outputs": [
        {
          "output_type": "stream",
          "text": [
            "Всего пользователей: 6106, смотрели трейлеры: 5332, не смотрели: 774\n"
          ],
          "name": "stdout"
        }
      ]
    },
    {
      "cell_type": "code",
      "metadata": {
        "id": "5wu_N09Wyybw",
        "colab_type": "code",
        "outputId": "b2e97dbc-f7b1-4ebb-c2fc-48ba9b4bc1d8",
        "colab": {
          "base_uri": "https://localhost:8080/",
          "height": 35
        }
      },
      "source": [
        "P_trg_evt2   = pt1[pt1.event_2.notnull()].target_event.count()/(pt1.event_2.count())\n",
        "P_trg_n_evt2 = pt1[pt1.event_2.isnull()].target_event.count()/(len(pt1) - pt1.event_2.count())\n",
        "print(\"Конверсия для пользователей, смотревших трейлеры: {:.2%}, не смотревших: {:.2%}\".format(P_trg_evt2, P_trg_n_evt2))"
      ],
      "execution_count": 11,
      "outputs": [
        {
          "output_type": "stream",
          "text": [
            "Конверсия для пользователей, смотревших трейлеры: 16.15%, не смотревших: 15.37%\n"
          ],
          "name": "stdout"
        }
      ]
    },
    {
      "cell_type": "markdown",
      "metadata": {
        "id": "rxFE-EGUyyb1",
        "colab_type": "text"
      },
      "source": [
        "Непохоже, чтобы факт просмотра трейлера влиял на решение о покупке фильма.  Вероятности отличаются, но не кардинально."
      ]
    },
    {
      "cell_type": "markdown",
      "metadata": {
        "id": "8wDRAgPMyyb5",
        "colab_type": "text"
      },
      "source": [
        "### Комбинация событий"
      ]
    },
    {
      "cell_type": "markdown",
      "metadata": {
        "id": "vek0_IPTyyb8",
        "colab_type": "text"
      },
      "source": [
        "Попробуем ещё скомбинировать события `event_1` и `event_2` (то есть рассмотрим случаи, когда происходят оба этих события).  Посмотрим количество таких комбинаций в выборке (создам дополнительный список из булевых значений):"
      ]
    },
    {
      "cell_type": "code",
      "metadata": {
        "id": "dzwenRBDyyb9",
        "colab_type": "code",
        "outputId": "3f319cb0-d516-4ae6-e888-59e74f28e928",
        "colab": {
          "base_uri": "https://localhost:8080/",
          "height": 35
        }
      },
      "source": [
        "events_vec = pt1['event_2'].notnull() & pt1['event_1'].notnull()\n",
        "events_vec.value_counts()\n",
        "print(\"Количество комбинаций event_1 + event_2: {:d}\".format(len(pt1[events_vec])))"
      ],
      "execution_count": 13,
      "outputs": [
        {
          "output_type": "stream",
          "text": [
            "Количество комбинаций event_1 + event_2: 2481\n"
          ],
          "name": "stdout"
        }
      ]
    },
    {
      "cell_type": "markdown",
      "metadata": {
        "id": "IOeK3tWXyycA",
        "colab_type": "text"
      },
      "source": [
        "И коэффициент конверсии среди этих пользователей:"
      ]
    },
    {
      "cell_type": "code",
      "metadata": {
        "id": "w2pBHuMTyycB",
        "colab_type": "code",
        "outputId": "e8466f2a-db90-40bf-d08a-2e9cc37592a7",
        "colab": {
          "base_uri": "https://localhost:8080/",
          "height": 35
        }
      },
      "source": [
        "print(\"Конверсия при комбинации event_1 + event_2: {:.2%}\".format(\n",
        "    (pt1[events_vec].target_event.count()) / ( len(pt1[events_vec]) ))\n",
        ")"
      ],
      "execution_count": 20,
      "outputs": [
        {
          "output_type": "stream",
          "text": [
            "Конверсия при комбинации event_1 + event_2: 24.67%\n"
          ],
          "name": "stdout"
        }
      ]
    },
    {
      "cell_type": "markdown",
      "metadata": {
        "id": "6W7jPn3MyycF",
        "colab_type": "text"
      },
      "source": [
        "Вероятность покупки в случае, когда пользователь получил персональные рекомендации *и* просмотрел трейлер, не сильно отличается от случая, когда он только просмотрел рекомендации.  То есть и здесь можно сказать, что просмотр трейлера не влияет на решение о покупке медиа."
      ]
    },
    {
      "cell_type": "markdown",
      "metadata": {
        "id": "0SVN4Jc0yycG",
        "colab_type": "text"
      },
      "source": [
        "### Проверяем другим способом\n",
        "\n",
        "Заход с другой стороны: выбираю только тех пользователей, которые совершили покупки,\n",
        "и среди них буду искать разницу частот событий `event_1` и `event_2`:"
      ]
    },
    {
      "cell_type": "code",
      "metadata": {
        "id": "ee_r0h3CyycH",
        "colab_type": "code",
        "outputId": "56dcfb21-35b5-4e94-8c27-4333a5cbbf6b",
        "colab": {
          "base_uri": "https://localhost:8080/",
          "height": 125
        }
      },
      "source": [
        "pt2 = pt1[pt1.target_event.notnull()]\n",
        "users = len(pt1)\n",
        "buyers = len(pt2)\n",
        "print(\"\"\"% получивших рекомендации среди покупателей: {0:.2%}\n",
        "% просмотревших трейлеры среди покупателей: {1:.2%}\n",
        "При этом проценты среди всех пользователей: \n",
        "  получали рекомендации: {2:.2%}\n",
        "  смотрели трейлеры: {3:.2%}\n",
        "\"\"\".format(\n",
        "    pt2.event_1.count() / buyers,\n",
        "    pt2.event_2.count() / buyers,\n",
        "    pt1.event_1.count() / users,\n",
        "    pt1.event_2.count() / users\n",
        "))\n"
      ],
      "execution_count": 102,
      "outputs": [
        {
          "output_type": "stream",
          "text": [
            "% получивших рекомендации среди покупателей: 70.82%\n",
            "% просмотревших трейлеры среди покупателей: 87.86%\n",
            "При этом проценты среди всех пользователей: \n",
            "  получали рекомендации: 46.58%\n",
            "  смотрели трейлеры: 87.32%\n",
            "\n"
          ],
          "name": "stdout"
        }
      ]
    },
    {
      "cell_type": "markdown",
      "metadata": {
        "id": "Q9ga42t6yycK",
        "colab_type": "text"
      },
      "source": [
        "Мы подошли к тому же выводу с другой стороны: для пользователя, который получал рекомендации, вероятность покупки значительно выше, то есть получение рекомендаций коррелировано с покупкой."
      ]
    },
    {
      "cell_type": "markdown",
      "metadata": {
        "id": "fiNt6sTPyycO",
        "colab_type": "text"
      },
      "source": [
        "Выведем дополнительно проценты получивших рекомендации и просмотревших трейлеры среди пользователей, которые (пока?) не стали покупателями."
      ]
    },
    {
      "cell_type": "code",
      "metadata": {
        "id": "_AFCsePMyycP",
        "colab_type": "code",
        "outputId": "9b607feb-724d-4d10-ad9d-cea5b8dc31e5",
        "colab": {
          "base_uri": "https://localhost:8080/",
          "height": 53
        }
      },
      "source": [
        "pt3 = pt1[pt1.target_event.isnull()]\n",
        "print(\"% получивших рекомендации среди НЕпокупателей: {:.2%}\".format(pt3.event_1.count() / len(pt3)))\n",
        "print(\"% просмотревших трейлеры среди НЕпокупателей : {:.2%}\".format(pt3.event_2.count() / len(pt3)))"
      ],
      "execution_count": 16,
      "outputs": [
        {
          "output_type": "stream",
          "text": [
            "% получивших рекомендации среди НЕпокупателей: 41.94%\n",
            "% просмотревших трейлеры среди НЕпокупателей : 87.22%\n"
          ],
          "name": "stdout"
        }
      ]
    },
    {
      "cell_type": "markdown",
      "metadata": {
        "id": "2-IvbQEPyycS",
        "colab_type": "text"
      },
      "source": [
        "Снова приходим к тому, что предсказательную ценность имеет параметр `event_1` (рекомендации), а `event2` (трейлеры) слабо коррелирован с покупкой."
      ]
    },
    {
      "cell_type": "markdown",
      "metadata": {
        "id": "Wv81XBzwyycU",
        "colab_type": "text"
      },
      "source": [
        "## Гипотеза 2: основные покупки совершает только часть пользователей, то есть существуют пользователи, совершившие много целевых действий, и они приносят основные продажи"
      ]
    },
    {
      "cell_type": "code",
      "metadata": {
        "id": "5xBc8hdLyycW",
        "colab_type": "code",
        "outputId": "beb9599f-fd8f-47e7-ea18-d9973793e925",
        "colab": {
          "base_uri": "https://localhost:8080/",
          "height": 283
        }
      },
      "source": [
        "# На всякий случай пересоздаём таблицу, в которой только покупатели\n",
        "pt2 = pt[pt.target_event.notnull()]\n",
        "print(\"Максимум покупок на пользователя: {0}\".format(pt2.target_event.max()))\n",
        "__ = pt2.target_event.hist(bins=8)"
      ],
      "execution_count": 17,
      "outputs": [
        {
          "output_type": "stream",
          "text": [
            "Максимум покупок на пользователя: 9.0\n"
          ],
          "name": "stdout"
        },
        {
          "output_type": "display_data",
          "data": {
            "image/png": "[encoded data removed]",
            "text/plain": [
              "<Figure size 432x288 with 1 Axes>"
            ]
          },
          "metadata": {
            "tags": []
          }
        }
      ]
    },
    {
      "cell_type": "markdown",
      "metadata": {
        "id": "zScvY02eyycY",
        "colab_type": "text"
      },
      "source": [
        "Из гистограммы видно, что существует много пользователей, купивших доступ один раз, и группа пользователей, которые покупали медиа многократно (то есть более одного раза).  Но не очень понятно распределение покупок: у каких клиентов их больше, у одноразовых или повторных? Просуммируем покупки по этим категориям:"
      ]
    },
    {
      "cell_type": "code",
      "metadata": {
        "id": "AF05Rs8tyycZ",
        "colab_type": "code",
        "outputId": "a7aabfdf-3a2f-4db4-d425-954e42ac36a8",
        "colab": {
          "base_uri": "https://localhost:8080/",
          "height": 89
        }
      },
      "source": [
        "print(\"\"\"Целевые действия (покупки): \n",
        "Всего: {0:0g} повторные покупатели: {1:0g} ({6:.2%}), новые покупатели: {2:0g} ({7:.2%}),\n",
        "Покупатели: \n",
        "Всего {3:0g}, повторных {4:0g} ({8:.2%}), однократных: {5:0g} ({9:.2%})\"\"\".format(\n",
        "    pt2.target_event.sum(),  #0\n",
        "    pt2[pt2.target_event > 1].target_event.sum(), #1\n",
        "    pt2[pt2.target_event == 1].target_event.sum(), #2\n",
        "    len(pt2), #3\n",
        "    len(pt2[pt2.target_event > 1]), #4\n",
        "    len(pt2[pt2.target_event == 1]), #5\n",
        "    pt2[pt2.target_event > 1].target_event.sum() / pt2.target_event.sum(), #6\n",
        "    pt2[pt2.target_event == 1].target_event.sum() / pt2.target_event.sum(), #7\n",
        "    len(pt2[pt2.target_event > 1]) / len(pt2), #8\n",
        "    len(pt2[pt2.target_event == 1]) / len(pt2), #9\n",
        "))\n",
        "# Проверяем, что в цифрах не запутались.\n",
        "assert(len(pt2) == len(pt2[pt2.target_event > 1]) + len(pt2[pt2.target_event == 1]))\n",
        "assert(pt2.target_event.sum() == (pt2[pt2.target_event > 1].target_event.sum() + \n",
        "                                  pt2[pt2.target_event == 1].target_event.sum())\n",
        ")"
      ],
      "execution_count": 94,
      "outputs": [
        {
          "output_type": "stream",
          "text": [
            "Целевые действия (покупки): \n",
            "Всего: 1543 повторные покупатели: 735 (47.63%), новые покупатели: 808 (52.37%),\n",
            "Покупатели: \n",
            "Всего 980, повторных 172 (17.55%), однократных: 808 (82.45%)\n"
          ],
          "name": "stdout"
        }
      ]
    },
    {
      "cell_type": "markdown",
      "metadata": {
        "id": "e0d2vsJByycc",
        "colab_type": "text"
      },
      "source": [
        "Получается, что 172 повторных клиента совершили почти столько же покупок, сколько 808 однократных покупателей. "
      ]
    },
    {
      "cell_type": "markdown",
      "metadata": {
        "id": "dy09Gqdsyycd",
        "colab_type": "text"
      },
      "source": [
        "Если группировать клиентов по количеству покупок (например, \"по 4 покупки совершили 10 покупателей\"), то получается такой датафрейм (учитываются только клиенты):"
      ]
    },
    {
      "cell_type": "code",
      "metadata": {
        "id": "jOwMeu1Hyyce",
        "colab_type": "code",
        "outputId": "dba5d6dc-9f17-49e9-9c90-e8391aca1b78",
        "colab": {
          "base_uri": "https://localhost:8080/",
          "height": 251
        }
      },
      "source": [
        "trg_evt_count_by_uid = pt2.drop(['event_1', 'event_2'], axis=1).reset_index()\n",
        "trg_evt_count_by_uid.columns = (\"UID\", \"transactions\")\n",
        "total_buyers = trg_evt_count_by_uid.transactions.count()\n",
        "total_transactions = trg_evt_count_by_uid.transactions.sum()\n",
        "uids_by_transactions_count = trg_evt_count_by_uid.groupby('transactions', as_index=True, axis=0).count()\n",
        "uids_by_transactions_count.columns=['users']\n",
        "uids_by_transactions_count['part_of_buyers'] = uids_by_transactions_count.users / total_buyers\n",
        "uids_by_transactions_count['part_of_transactions'] = (\n",
        "    uids_by_transactions_count['users'] * uids_by_transactions_count.index /\n",
        "    total_transactions )\n",
        "# Проверяю, что наши проценты в сумме = 100 и прочие показатели суммируются, как надо (логический контроль)\n",
        "assert(uids_by_transactions_count.users.sum() == total_buyers)\n",
        "assert((uids_by_transactions_count.index * uids_by_transactions_count.users).sum() == total_transactions)\n",
        "assert(uids_by_transactions_count.part_of_buyers.sum() == 1)\n",
        "assert(uids_by_transactions_count.part_of_transactions.sum() == 1)\n",
        "print(uids_by_transactions_count)\n",
        "print(\"\\nTotal buyers: {0}, total transactions: {1}\".format(total_buyers, total_transactions))\n"
      ],
      "execution_count": 99,
      "outputs": [
        {
          "output_type": "stream",
          "text": [
            "              users  part_of_buyers  part_of_transactions\n",
            "transactions                                             \n",
            "1.0             808        0.824490              0.523655\n",
            "2.0              26        0.026531              0.033701\n",
            "3.0              31        0.031633              0.060272\n",
            "4.0              49        0.050000              0.127025\n",
            "5.0              29        0.029592              0.093973\n",
            "6.0              20        0.020408              0.077771\n",
            "7.0               9        0.009184              0.040830\n",
            "8.0               6        0.006122              0.031108\n",
            "9.0               2        0.002041              0.011666\n",
            "\n",
            "Total buyers: 980, total transactions: 1543.0\n"
          ],
          "name": "stdout"
        }
      ]
    },
    {
      "cell_type": "markdown",
      "metadata": {
        "id": "OwcOpvwj6r9y",
        "colab_type": "text"
      },
      "source": [
        "В цифрах не очень наглядно, покажу на картинке:"
      ]
    },
    {
      "cell_type": "code",
      "metadata": {
        "id": "wMnyMZbc6qbI",
        "colab_type": "code",
        "colab": {
          "base_uri": "https://localhost:8080/",
          "height": 281
        },
        "outputId": "a41459c4-ef82-4791-fd8d-f13318004c35"
      },
      "source": [
        "# Вывожу картинку\n",
        "fig, ax = mpl.subplots(1,2)\n",
        "fig.set_size_inches(10,4)\n",
        "ax[0].set_xlim(0,100)\n",
        "ax[0].set_title('% покупателей')\n",
        "ax[0].set_ylabel('Транзакций на покупателя')\n",
        "ax[0].set_yticks(range(1,10))\n",
        "ax[1].set_xlim(0,100)\n",
        "ax[1].set_title('% транзакций')\n",
        "ax[1].set_yticks(range(1,10))\n",
        "ax[0].barh(uids_by_transactions_count.index, uids_by_transactions_count.part_of_buyers * 100)\n",
        "ax[1].barh(uids_by_transactions_count.index, uids_by_transactions_count.part_of_transactions * 100)\n",
        "mpl.show()"
      ],
      "execution_count": 90,
      "outputs": [
        {
          "output_type": "display_data",
          "data": {
            "image/png": "[encoded data removed]",
            "text/plain": [
              "<Figure size 720x288 with 2 Axes>"
            ]
          },
          "metadata": {
            "tags": []
          }
        }
      ]
    },
    {
      "cell_type": "markdown",
      "metadata": {
        "id": "sinNUKzjyycg",
        "colab_type": "text"
      },
      "source": [
        "Итак, чуть меньше 1/5 покупателей, которые оплачивали доступ к медиа несколько раз, принесли нам почти половину прибыли.  Это не «большая часть», но заметная: есть смысл задуматься об удержании покупателей.  \n",
        "\n",
        "Сколько средств есть смысл вкладывать в удержание клиентов, в этом анализе не рассматривается, это предмет отдельного исследования."
      ]
    },
    {
      "cell_type": "markdown",
      "metadata": {
        "id": "rV-9Jqazyyci",
        "colab_type": "text"
      },
      "source": [
        "## Выводы\n",
        "\n",
        "По результатам рассмотрения трёх гипотез можно сказать, что:\n",
        "\n",
        "### Гипотеза 1А: пользователи, которые просматривали рекомендации, совершают больше покупок.\n",
        "\n",
        "Эта гипотеза *подтверждается* данными.\n",
        "\n",
        "### Гипотеза 1Б: пользователи, которые смотрели трейлеры, совершают больше покупок\n",
        "\n",
        "Эта гипотеза *не подтверждается*, влияния просмотра трейлеров на готовность покупать не обнаружено.\n",
        "\n",
        "### Гипотеза 2: Б*о*льшую часть прибыли приносят постоянные клиенты\n",
        "\n",
        "Гипотеза не подтверждается: повторные покупки составляют значительную часть, но не большинство транзакций.\n",
        "\n",
        "Возможно, при повышении внимания к удержанию пользователей, будет больше повторных покупок, и это соотношение изменится."
      ]
    }
  ]
}